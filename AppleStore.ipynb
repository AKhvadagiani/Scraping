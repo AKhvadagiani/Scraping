{
 "cells": [
  {
   "cell_type": "code",
   "execution_count": 1,
   "id": "dfc122a7",
   "metadata": {},
   "outputs": [],
   "source": [
    "import pandas as pd\n",
    "from bs4 import BeautifulSoup"
   ]
  },
  {
   "cell_type": "code",
   "execution_count": null,
   "id": "3ffe1935",
   "metadata": {},
   "outputs": [],
   "source": [
    "df=pd.read_csv(\"Isshop.csv\")"
   ]
  },
  {
   "cell_type": "code",
   "execution_count": null,
   "id": "3debab81",
   "metadata": {},
   "outputs": [],
   "source": [
    "def find_store_link(html):\n",
    "    soup = BeautifulSoup(html, 'html.parser')\n",
    "    \n",
    "    # Look for Google Play and Apple Store links\n",
    "    google_play_link = soup.find('a', href=lambda href: href and 'play.google.com/store/apps/details' in href)\n",
    "    apple_store_link = soup.find('a', href=lambda href: href and 'apps.apple.com' in href)\n",
    "    \n",
    "    stores = []\n",
    "    if google_play_link:\n",
    "        stores.append(\"Google Play\")\n",
    "    if apple_store_link:\n",
    "        stores.append(\"App Store\")\n",
    "    \n",
    "    # Return a string joined by comma if both are found, or an empty string if none.\n",
    "    return \", \".join(stores) if stores else \"\"\n",
    "\n",
    "\n"
   ]
  },
  {
   "cell_type": "code",
   "execution_count": 57,
   "id": "71bf19ab",
   "metadata": {},
   "outputs": [],
   "source": [
    "df = df[df['HTML'].apply(lambda x: pd.notna(x) and x not in [[], \"\"])]\n",
    "df[\"Google\\Apple_Store\"]=df[\"HTML\"].apply(find_store_link)"
   ]
  },
  {
   "cell_type": "code",
   "execution_count": 4,
   "id": "ec5b1f33",
   "metadata": {},
   "outputs": [],
   "source": [
    "import pandas as pd\n",
    "df_1=pd.read_csv(\"with_stores.csv\")"
   ]
  },
  {
   "cell_type": "code",
   "execution_count": null,
   "id": "a40ab957",
   "metadata": {},
   "outputs": [],
   "source": [
    "import pandas as pd\n",
    "df_2=pd.read_csv(\"with_words.csv\")"
   ]
  },
  {
   "cell_type": "code",
   "execution_count": 13,
   "id": "8a8b82bb",
   "metadata": {},
   "outputs": [],
   "source": [
    "df_3=df_2.merge(df_1[[\"domain\",\"Google\\Apple_Store\"]], on=\"domain\", how=\"left\")"
   ]
  }
 ],
 "metadata": {
  "kernelspec": {
   "display_name": "Python 3",
   "language": "python",
   "name": "python3"
  },
  "language_info": {
   "codemirror_mode": {
    "name": "ipython",
    "version": 3
   },
   "file_extension": ".py",
   "mimetype": "text/x-python",
   "name": "python",
   "nbconvert_exporter": "python",
   "pygments_lexer": "ipython3",
   "version": "3.11.7"
  }
 },
 "nbformat": 4,
 "nbformat_minor": 5
}
