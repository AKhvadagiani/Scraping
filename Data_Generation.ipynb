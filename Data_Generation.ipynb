{
 "cells": [
  {
   "cell_type": "code",
   "execution_count": 2,
   "metadata": {},
   "outputs": [],
   "source": [
    "import pandas as pd\n",
    "import Translation_1\n",
    "import warnings"
   ]
  },
  {
   "cell_type": "code",
   "execution_count": 21,
   "metadata": {},
   "outputs": [],
   "source": [
    "data_1=pd.read_csv('Isshop.csv')"
   ]
  },
  {
   "cell_type": "code",
   "execution_count": 24,
   "metadata": {},
   "outputs": [],
   "source": [
    "Words_to_search = [\n",
    "\"Proceed to Payment\",\n",
    "\"Place Order\",\n",
    "\"Place your order\"\n",
    "\"Shopping Basket\"\n",
    "\"View Cart\",\n",
    "\"Order Now\",\n",
    "\"Purchase\",\n",
    "\"Shop Now\",\n",
    "\"Complete Purchase\",\n",
    "\"Add to Basket\",\n",
    "\"Buy Now\",\n",
    "\"Continue Shopping\",\n",
    "\"Secure Checkout\",\n",
    "\"Confirm Order\",\n",
    "\"Order Summary\",\n",
    "\"Add to Wishlist\",\n",
    "\"Select product\",\n",
    "\"Return and exchange policy\",\n",
    "\"Track your order\",\n",
    "\"Shipping & Payment\",\n",
    "\"Online shop\",\n",
    "\"Exchanges & Refunds\",\n",
    "\"How To Shop\",\n",
    "\"Order Status\",\n",
    "\"Shipping Method\",\n",
    "\"Tracking Order\",\n",
    "\"Online E-Commerce\",\n",
    "\"Quick Buy\",\n",
    "\"Easy Return Guidance\",\n",
    "\"Shipping Details\",\n",
    "\"Delivery\",\n",
    "\"Returns And Exchange\", \n",
    "\"Payment Methods\",\n",
    "\"Payment method\",\n",
    "\"Returns And Refunds\",\n",
    "\"Shipping Information & Costs\",\n",
    "\"Shopping Basket\",\n",
    "\"Shipping And Payment\",\n",
    "\"Returns / Product Exchange\",\n",
    "\"Payment\", \n",
    "\"Shipping & Delivery\",\n",
    "\"Exchanges & Returns\",\n",
    "\"Shipping And Exchange Policy\",\n",
    "\"Refund Policy\",\n",
    "\"All About Shopping\",\n",
    "\"Basket\",\n",
    "\"Shopping Cart\",\n",
    "\"Return Procedure\",\n",
    "\"Guarantees And Returns\",\n",
    "\"Return/Complaint Instructions\",\n",
    "\"E-Shop\",\n",
    "\"Order Status \",\n",
    "\"Our Stores\",\n",
    "\"How to Order\",\n",
    "\"Eshop\",\n",
    "\"Free shipping\",\n",
    "\"How to Ship\",\n",
    "\"Add to cart\",\n",
    "\"Out of stock\",\n",
    "\"Delivery Information\",\n",
    "\"Returns Information\",\n",
    "\"my cart\",\n",
    "\"My basket\",\n",
    "]\n"
   ]
  },
  {
   "cell_type": "markdown",
   "metadata": {},
   "source": [
    "______"
   ]
  },
  {
   "cell_type": "code",
   "execution_count": 25,
   "metadata": {},
   "outputs": [],
   "source": [
    "# Initialize translation cache\n",
    "translation_cache = {}\n",
    "\n",
    "def find_phrases_optimized(row, phrases_to_search):\n",
    "    text_lang = row['detected_language']\n",
    "    text = row['HTML']\n",
    "    \n",
    "    if not isinstance(text, str):\n",
    "        return ''\n",
    "    \n",
    "    found_phrases = []\n",
    "    text_lower = text.lower()\n",
    "\n",
    "    for phrase in phrases_to_search:\n",
    "        if phrase.lower() in text.lower():\n",
    "            found_phrases.append(phrase)\n",
    "    if text_lang != 'en':      \n",
    " \n",
    "        # Check/create language cache if needed\n",
    "        if text_lang not in translation_cache:\n",
    "            translation_cache[text_lang] = {}\n",
    "        \n",
    "        # Search with translation\n",
    "        for phrase in phrases_to_search:\n",
    "            # Get from cache or translate\n",
    "            if phrase not in translation_cache[text_lang]:\n",
    "                try:\n",
    "                    translation_cache[text_lang][phrase] = Translation_1.api_translate_text('en', text_lang, phrase).lower()\n",
    "                except:\n",
    "                    translation_cache[text_lang][phrase] = None\n",
    "            \n",
    "            translated_phrase = translation_cache[text_lang][phrase]\n",
    "            if translated_phrase and translated_phrase in text_lower:\n",
    "                found_phrases.append(phrase)\n",
    "    \n",
    "    return \", \".join(found_phrases)\n",
    "\n",
    "# Apply to your dataframe\n",
    "data_1['words_found'] = data_1.apply(\n",
    "    lambda row: find_phrases_optimized(row, Words_to_search), \n",
    "    axis=1\n",
    ")"
   ]
  },
  {
   "cell_type": "markdown",
   "metadata": {},
   "source": [
    "generate two data frames df_1 with language, df_2 with detected\n",
    " \n",
    "join the results.\n",
    "\n",
    "clean the dataset."
   ]
  },
  {
   "cell_type": "code",
   "execution_count": 3,
   "metadata": {},
   "outputs": [],
   "source": [
    "df_1=pd.read_csv(\"language.csv\")\n",
    "df_2=pd.read_csv(\"detected.csv\")"
   ]
  },
  {
   "cell_type": "code",
   "execution_count": 7,
   "metadata": {},
   "outputs": [],
   "source": [
    "warnings.filterwarnings(action=\"ignore\")\n",
    "df_1[\"words_found\"] = df_1[\"words_found\"].apply(\n",
    "    lambda x: ', '.join(pd.unique([i.strip() for i in x.split(\",\")]).tolist()) if isinstance(x, str) else \"\"\n",
    ")\n",
    "df_2[\"words_found\"] = df_1[\"words_found\"].apply(\n",
    "    lambda x: ', '.join(pd.unique([i.strip() for i in x.split(\",\")]).tolist()) if isinstance(x, str) else \"\"\n",
    ")\n"
   ]
  },
  {
   "cell_type": "code",
   "execution_count": 10,
   "metadata": {},
   "outputs": [],
   "source": [
    "combined=df_2.merge(df_1[[\"domain\",\"words_found\"]], how=\"left\", on=\"domain\")"
   ]
  },
  {
   "cell_type": "code",
   "execution_count": 12,
   "metadata": {},
   "outputs": [],
   "source": [
    "combined[\"words_found_x\"].fillna(\"\",inplace=True)\n",
    "combined[\"words_found_y\"].fillna(\"\", inplace=True)"
   ]
  },
  {
   "cell_type": "code",
   "execution_count": 13,
   "metadata": {},
   "outputs": [],
   "source": [
    "combined[\"word_count_x\"]=combined[\"words_found_x\"].apply(lambda x: len([i.strip() for i in x.split(\",\")])if isinstance(x, str) else 0)\n",
    "combined[\"word_count_y\"]=combined[\"words_found_y\"].apply(lambda x: len([i.strip() for i in x.split(\",\")])if isinstance(x, str) else 0)"
   ]
  },
  {
   "cell_type": "code",
   "execution_count": 15,
   "metadata": {},
   "outputs": [
    {
     "data": {
      "text/html": [
       "<div>\n",
       "<style scoped>\n",
       "    .dataframe tbody tr th:only-of-type {\n",
       "        vertical-align: middle;\n",
       "    }\n",
       "\n",
       "    .dataframe tbody tr th {\n",
       "        vertical-align: top;\n",
       "    }\n",
       "\n",
       "    .dataframe thead th {\n",
       "        text-align: right;\n",
       "    }\n",
       "</style>\n",
       "<table border=\"1\" class=\"dataframe\">\n",
       "  <thead>\n",
       "    <tr style=\"text-align: right;\">\n",
       "      <th></th>\n",
       "      <th>domain</th>\n",
       "      <th>HTML</th>\n",
       "      <th>Text</th>\n",
       "      <th>found_phrases</th>\n",
       "      <th>language</th>\n",
       "      <th>detected_language</th>\n",
       "      <th>words_found_x</th>\n",
       "      <th>words_found_y</th>\n",
       "      <th>word_count_x</th>\n",
       "      <th>word_count_y</th>\n",
       "    </tr>\n",
       "  </thead>\n",
       "  <tbody>\n",
       "    <tr>\n",
       "      <th>0</th>\n",
       "      <td>esgotado.com</td>\n",
       "      <td>\\n&lt;!doctype html&gt;\\n&lt;html class=\"no-js\" lang=\"e...</td>\n",
       "      <td>Link ALternatif JOKER5000 Situs JOKER Deposit ...</td>\n",
       "      <td>Add to cart, add to cart, Payment</td>\n",
       "      <td>en</td>\n",
       "      <td>en</td>\n",
       "      <td>Purchase, Payment, Add to cart</td>\n",
       "      <td>Purchase, Payment, Add to cart</td>\n",
       "      <td>3</td>\n",
       "      <td>3</td>\n",
       "    </tr>\n",
       "    <tr>\n",
       "      <th>1</th>\n",
       "      <td>esh2u.com</td>\n",
       "      <td>&lt;!doctype html&gt;\\n&lt;html class=\"no-js\" lang=\"en\"...</td>\n",
       "      <td>Best Electrical Appliances Online – ESH Electr...</td>\n",
       "      <td>Privacy policy, Add to cart, add to cart, Deli...</td>\n",
       "      <td>en</td>\n",
       "      <td>en</td>\n",
       "      <td>Purchase, Continue Shopping, Delivery, Payment...</td>\n",
       "      <td>Purchase, Continue Shopping, Delivery, Payment...</td>\n",
       "      <td>9</td>\n",
       "      <td>9</td>\n",
       "    </tr>\n",
       "    <tr>\n",
       "      <th>2</th>\n",
       "      <td>nykdbynykaa.com</td>\n",
       "      <td>&lt;!doctype html&gt;\\n&lt;html class=\"js\" lang=\"en\"&gt;\\n...</td>\n",
       "      <td>Nykd By Nykaa – Nykd by Nykaa Skip to content ...</td>\n",
       "      <td>Terms and conditions, Privacy policy, Return a...</td>\n",
       "      <td>en</td>\n",
       "      <td>en</td>\n",
       "      <td>Purchase, Shop Now, Buy Now, Continue Shopping...</td>\n",
       "      <td>Purchase, Shop Now, Buy Now, Continue Shopping...</td>\n",
       "      <td>12</td>\n",
       "      <td>12</td>\n",
       "    </tr>\n",
       "  </tbody>\n",
       "</table>\n",
       "</div>"
      ],
      "text/plain": [
       "            domain                                               HTML  \\\n",
       "0     esgotado.com  \\n<!doctype html>\\n<html class=\"no-js\" lang=\"e...   \n",
       "1        esh2u.com  <!doctype html>\\n<html class=\"no-js\" lang=\"en\"...   \n",
       "2  nykdbynykaa.com  <!doctype html>\\n<html class=\"js\" lang=\"en\">\\n...   \n",
       "\n",
       "                                                Text  \\\n",
       "0  Link ALternatif JOKER5000 Situs JOKER Deposit ...   \n",
       "1  Best Electrical Appliances Online – ESH Electr...   \n",
       "2  Nykd By Nykaa – Nykd by Nykaa Skip to content ...   \n",
       "\n",
       "                                       found_phrases language  \\\n",
       "0                  Add to cart, add to cart, Payment       en   \n",
       "1  Privacy policy, Add to cart, add to cart, Deli...       en   \n",
       "2  Terms and conditions, Privacy policy, Return a...       en   \n",
       "\n",
       "  detected_language                                      words_found_x  \\\n",
       "0                en                     Purchase, Payment, Add to cart   \n",
       "1                en  Purchase, Continue Shopping, Delivery, Payment...   \n",
       "2                en  Purchase, Shop Now, Buy Now, Continue Shopping...   \n",
       "\n",
       "                                       words_found_y  word_count_x  \\\n",
       "0                     Purchase, Payment, Add to cart             3   \n",
       "1  Purchase, Continue Shopping, Delivery, Payment...             9   \n",
       "2  Purchase, Shop Now, Buy Now, Continue Shopping...            12   \n",
       "\n",
       "   word_count_y  \n",
       "0             3  \n",
       "1             9  \n",
       "2            12  "
      ]
     },
     "execution_count": 15,
     "metadata": {},
     "output_type": "execute_result"
    }
   ],
   "source": [
    "combined.head(3)"
   ]
  },
  {
   "cell_type": "code",
   "execution_count": 16,
   "metadata": {},
   "outputs": [],
   "source": [
    "combined[\"words_found\"] = combined[\"words_found_x\"].where(\n",
    "    combined[\"word_count_x\"] >= combined[\"word_count_y\"],\n",
    "    combined[\"words_found_y\"]\n",
    ")"
   ]
  },
  {
   "cell_type": "code",
   "execution_count": 17,
   "metadata": {},
   "outputs": [],
   "source": [
    "combined.drop(columns=[\"found_phrases\", \"words_found_x\",\t\"words_found_y\", \"word_count_x\", \"word_count_y\"], inplace=True)"
   ]
  },
  {
   "cell_type": "code",
   "execution_count": 18,
   "metadata": {},
   "outputs": [],
   "source": [
    "combined.rename(columns={\"Text\":\"HTML_text\"})\n",
    "combined.fillna('',inplace=True)"
   ]
  }
 ],
 "metadata": {
  "kernelspec": {
   "display_name": "Python 3",
   "language": "python",
   "name": "python3"
  },
  "language_info": {
   "codemirror_mode": {
    "name": "ipython",
    "version": 3
   },
   "file_extension": ".py",
   "mimetype": "text/x-python",
   "name": "python",
   "nbconvert_exporter": "python",
   "pygments_lexer": "ipython3",
   "version": "3.11.7"
  }
 },
 "nbformat": 4,
 "nbformat_minor": 2
}
